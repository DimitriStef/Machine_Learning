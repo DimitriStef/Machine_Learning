{
 "cells": [
  {
   "cell_type": "markdown",
   "metadata": {},
   "source": [
    "# Machine Learning - Project 2"
   ]
  },
  {
   "cell_type": "markdown",
   "metadata": {},
   "source": [
    ">Dimitrios Stefanou\n",
    "\n",
    ">A.M. 3160245"
   ]
  },
  {
   "cell_type": "markdown",
   "metadata": {},
   "source": [
    "### Package imports and data loading"
   ]
  },
  {
   "cell_type": "code",
   "execution_count": 1,
   "metadata": {},
   "outputs": [],
   "source": [
    "import numpy as np\n",
    "import matplotlib.pyplot as plt\n",
    "import random\n",
    "import imageio\n",
    "from scipy.stats import multivariate_normal"
   ]
  },
  {
   "cell_type": "markdown",
   "metadata": {},
   "source": [
    "### Image IO"
   ]
  },
  {
   "cell_type": "code",
   "execution_count": 2,
   "metadata": {},
   "outputs": [
    {
     "name": "stdout",
     "output_type": "stream",
     "text": [
      "(690, 550, 3)\n",
      "----\n",
      "(379500, 3)\n"
     ]
    }
   ],
   "source": [
    "# input fllename >> output 3d array\n",
    "def read_img(filename):\n",
    "    img_3d = imageio.imread(filename)\n",
    "    return img_3d\n",
    "\n",
    "# input 3d array >> output 2d array\n",
    "def flatten_img(img_3d):\n",
    "    x, y, z = img_3d.shape\n",
    "    img_2d = img_3d.reshape(x*y, z)\n",
    "    img_2d = np.array(img_2d, dtype = np.float)\n",
    "    return img_2d\n",
    "\n",
    "# input 1d prediction array, clusters >> output 2d array\n",
    "def construct_img(pred, means):\n",
    "    new_img_2d = np.empty(img_2d.shape)\n",
    "    for i in range(0, pred.size):\n",
    "        new_img_2d[i] = means[pred[i]]\n",
    "    \n",
    "    return new_img_2d\n",
    "\n",
    "# input 2d array >> output 3d array\n",
    "def recover_img(img_2d, x, y):\n",
    "    img_2d = img_2d.astype(np.uint8)\n",
    "    recover_img = img_2d.reshape(x, y, 3)\n",
    "    return recover_img\n",
    "\n",
    "# image input to 2d array\n",
    "img_3d = read_img('im.jpg')\n",
    "print(img_3d.shape)\n",
    "print('----')\n",
    "img_2d = flatten_img(img_3d)\n",
    "print(img_2d.shape)"
   ]
  },
  {
   "cell_type": "markdown",
   "metadata": {},
   "source": [
    "### Probability (γ) and argmax functions"
   ]
  },
  {
   "cell_type": "code",
   "execution_count": 3,
   "metadata": {},
   "outputs": [],
   "source": [
    "# bayesian probability function\n",
    "# returns the prob for each to pixel to belong to a cluster\n",
    "def predict_probs(X, img_size, k, p_k, means, sigma):\n",
    "    # p(x|k)\n",
    "    likelihood = np.zeros((img_size, k))\n",
    "    for i in range(k):\n",
    "        distribution = multivariate_normal(mean=means[i], cov=sigma[i], allow_singular=True)\n",
    "        likelihood[:,i] = distribution.pdf(X)\n",
    "\n",
    "    # p(x|k) * p(k) | numerator of γ(znk)\n",
    "    pkN = likelihood * p_k \n",
    "    # p(x) | | denomimetor of γ(znk)\n",
    "    SpkN = pkN.sum(axis=1)[:, np.newaxis]\n",
    "    # bayes | γ(znk)\n",
    "    gamma = pkN / SpkN\n",
    "    return gamma\n",
    "\n",
    "# argmax version of predict_probs\n",
    "# used to create the predicted image\n",
    "def predict(X, k, p_k, means, sigma):\n",
    "    gamma = predict_probs(X, X.shape[0], k, p_k, means, sigma)\n",
    "    return np.argmax(gamma, axis=1)\n",
    "\n",
    "# Attempted spherical distribution, unfinished, not working\n",
    "def norm_pdf_spherical(X, means, sigma):\n",
    "    likelihood = np.zeros((X.shape[0], k))\n",
    "    for i in range(k):\n",
    "        for j in range(X.shape[0]):\n",
    "            norm_const = 1./ (np.power((2*np.pi) * np.power(sigma[i], 2), X.shape[1]/2))\n",
    "            norm = np.exp(-0.5 * 1./np.power(sigma[i], 2)) * np.power(np.linalg.norm(X[j] - means[i]), 2)\n",
    "        # likelihood[?,i] = norm_const * norm\n",
    "        \n",
    "    return likelihood"
   ]
  },
  {
   "cell_type": "markdown",
   "metadata": {},
   "source": [
    "### Gaussian Mixture Model"
   ]
  },
  {
   "cell_type": "code",
   "execution_count": 16,
   "metadata": {},
   "outputs": [],
   "source": [
    "def plot_costs(costs):\n",
    "    x = range(1, len(costs)+1)\n",
    "    y = costs\n",
    "    plt.plot(x, y)\n",
    "    plt.ylabel('cost')\n",
    "    plt.xlabel('iterations')\n",
    "    plt.title(\"Cost Function =\")\n",
    "    plt.xticks(np.arange(min(x), max(x)+1, 10))\n",
    "    plt.show()\n",
    "    \n",
    "def gmm(X, k, max_iter, tol):\n",
    "    \n",
    "    # Initialize parameters\n",
    "    img_size = X.shape[0]\n",
    "    p_k = np.full(shape=k, fill_value=1/k)\n",
    "    gamma = np.full(shape=X.shape, fill_value=1/k)\n",
    "    means = np.asarray(random.sample(list(X), k))\n",
    "    sigma = np.array([np.cov(X.T)*np.identity(X.shape[1]) for z in range(k)])\n",
    "    Jold = np.inf\n",
    "    costs = []\n",
    "    \n",
    "    for it in range(max_iter):\n",
    "        # Expectation Step: update gamma and p(k). means and sigma are constant\n",
    "        gamma = predict_probs(X, img_size, k, p_k, means, sigma)\n",
    "        p_k = gamma.mean(axis=0)\n",
    "        \n",
    "        # Maximization Step: update means and sigma. p(k) and gamma are constant\n",
    "        for i in range(k):\n",
    "            prob = gamma[:, [i]]\n",
    "            total_prob = prob.sum()\n",
    "            means[i] = (X * prob).sum(axis=0) / total_prob\n",
    "            sigma[i] = np.cov(X.T,aweights=(prob / total_prob).flatten(), bias=True)*np.identity(X.shape[1])\n",
    "        \n",
    "        # Current prediction\n",
    "        temp_2d_img = construct_img(predict(X, k, p_k, means, sigma), means)\n",
    "        # Cost function\n",
    "        # error = ||x_true - x_r||^2 / N\n",
    "        J = np.power(np.linalg.norm(X - temp_2d_img), 2) / X.shape[0]\n",
    "        \n",
    "        # Print progress\n",
    "        if (it % 10 == 0):\n",
    "            print(\"Iteration #{}, Cost function value: {}\".format(it, J))\n",
    "          \n",
    "        # Check for convergence          \n",
    "        if (np.abs(J-Jold) < tol) or J > Jold:\n",
    "            print(\"Converged. Iteration #{}, Cost function value: {}\".format(it, J))\n",
    "            break\n",
    "        \n",
    "        costs.append(J)     \n",
    "        Jold = J\n",
    "            \n",
    "    plot_costs(costs)  \n",
    "    return p_k, means, sigma"
   ]
  },
  {
   "cell_type": "markdown",
   "metadata": {},
   "source": [
    "### Model Training"
   ]
  },
  {
   "cell_type": "code",
   "execution_count": 24,
   "metadata": {},
   "outputs": [
    {
     "name": "stdout",
     "output_type": "stream",
     "text": [
      "Iteration #0, Cost function value: 577.7263344584461\n",
      "Iteration #10, Cost function value: 216.08644614897855\n",
      "Iteration #20, Cost function value: 154.5349952805845\n",
      "Iteration #30, Cost function value: 148.2841174142662\n",
      "Converged. Iteration #32, Cost function value: 147.8860227667261\n"
     ]
    },
    {
     "data": {
      "image/png": "[encoded data removed]",
      "text/plain": [
       "<Figure size 432x288 with 1 Axes>"
      ]
     },
     "metadata": {
      "needs_background": "light"
     },
     "output_type": "display_data"
    },
    {
     "name": "stdout",
     "output_type": "stream",
     "text": [
      "Time:  222\n"
     ]
    }
   ],
   "source": [
    "import timeit\n",
    "start = timeit.default_timer()\n",
    "\n",
    "k = 64\n",
    "p_k, means, sigma = gmm(img_2d, k, max_iter=150, tol=1e-4)\n",
    "\n",
    "stop = timeit.default_timer()\n",
    "print('Time: ', round(stop - start))  "
   ]
  },
  {
   "cell_type": "markdown",
   "metadata": {},
   "source": [
    "### Segmented Image Prediction"
   ]
  },
  {
   "cell_type": "code",
   "execution_count": 25,
   "metadata": {},
   "outputs": [
    {
     "name": "stdout",
     "output_type": "stream",
     "text": [
      "All done.\n"
     ]
    }
   ],
   "source": [
    "pred = predict(img_2d, k, p_k, means, sigma)\n",
    "new_img_2d = construct_img(pred, means)\n",
    "\n",
    "new_img_3d = recover_img(new_img_2d, img_3d.shape[0], img_3d.shape[1])\n",
    "imageio.imwrite('img_segm_EM.jpg', new_img_3d)\n",
    "print(\"All done.\")"
   ]
  },
  {
   "cell_type": "code",
   "execution_count": null,
   "metadata": {},
   "outputs": [],
   "source": []
  }
 ],
 "metadata": {
  "kernelspec": {
   "display_name": "Python 3",
   "language": "python",
   "name": "python3"
  },
  "language_info": {
   "codemirror_mode": {
    "name": "ipython",
    "version": 3
   },
   "file_extension": ".py",
   "mimetype": "text/x-python",
   "name": "python",
   "nbconvert_exporter": "python",
   "pygments_lexer": "ipython3",
   "version": "3.8.8"
  }
 },
 "nbformat": 4,
 "nbformat_minor": 4
}
