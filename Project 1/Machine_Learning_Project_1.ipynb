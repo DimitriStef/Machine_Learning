{
 "cells": [
  {
   "cell_type": "markdown",
   "metadata": {},
   "source": [
    "# Machine Learning - Project 1"
   ]
  },
  {
   "cell_type": "markdown",
   "metadata": {},
   "source": [
    ">Dimitrios Stefanou\n",
    "\n",
    ">A.M. 3160245"
   ]
  },
  {
   "cell_type": "markdown",
   "metadata": {},
   "source": [
    "### Package imports and data loading"
   ]
  },
  {
   "cell_type": "code",
   "execution_count": 1,
   "metadata": {},
   "outputs": [],
   "source": [
    "import pandas as pd\n",
    "import numpy as np\n",
    "import math\n",
    "import timeit\n",
    "import matplotlib.pyplot as plt\n",
    "from six.moves import cPickle as pickle\n",
    "import os\n",
    "import platform\n",
    "from subprocess import check_output"
   ]
  },
  {
   "cell_type": "markdown",
   "metadata": {},
   "source": [
    "### Load Mnist\n",
    ">Load either Mnist or CIFAR"
   ]
  },
  {
   "cell_type": "code",
   "execution_count": 2,
   "metadata": {},
   "outputs": [
    {
     "name": "stdout",
     "output_type": "stream",
     "text": [
      "Train data shape:  (60000, 785)\n",
      "Train labels shape:  (60000, 10)\n",
      "Test data shape:  (10000, 785)\n",
      "Test labels shape:  (10000, 10)\n"
     ]
    }
   ],
   "source": [
    "def load_data():\n",
    "    \"\"\"\n",
    "    Load the MNIST dataset. Reads the training and testing files and create matrices.\n",
    "    :Expected return:\n",
    "    train_data:the matrix with the training data\n",
    "    test_data: the matrix with the data that will be used for testing\n",
    "    y_train: the matrix consisting of one \n",
    "                        hot vectors on each row(ground truth for training)\n",
    "    y_test: the matrix consisting of one\n",
    "                        hot vectors on each row(ground truth for testing)\n",
    "    \"\"\"\n",
    "\n",
    "    # load the train files\n",
    "    df = None\n",
    "\n",
    "    y_train = []\n",
    "\n",
    "    for i in range(10):\n",
    "        tmp = pd.read_csv('mnistdata/train%d.txt' % i, header=None, sep=\" \")\n",
    "        # build labels - one hot vector\n",
    "        hot_vector = [1 if j == i else 0 for j in range(0, 10)]\n",
    "\n",
    "        for j in range(tmp.shape[0]):\n",
    "            y_train.append(hot_vector)\n",
    "        # concatenate dataframes by rows\n",
    "        if i == 0:\n",
    "            df = tmp\n",
    "        else:\n",
    "            df = pd.concat([df, tmp])\n",
    "\n",
    "    train_data = df.values\n",
    "    y_train = np.array(y_train)\n",
    "\n",
    "    # load test files\n",
    "    df = None\n",
    "\n",
    "    y_test = []\n",
    "\n",
    "    for i in range(10):\n",
    "        tmp = pd.read_csv('mnistdata/test%d.txt' % i, header=None, sep=\" \")\n",
    "        # build labels - one hot vector\n",
    "\n",
    "        hot_vector = [1 if j == i else 0 for j in range(0, 10)]\n",
    "\n",
    "        for j in range(tmp.shape[0]):\n",
    "            y_test.append(hot_vector)\n",
    "        # concatenate dataframes by rows\n",
    "        if i == 0:\n",
    "            df = tmp\n",
    "        else:\n",
    "            df = pd.concat([df, tmp])\n",
    "\n",
    "    test_data = df.values\n",
    "    y_test = np.array(y_test)\n",
    "\n",
    "    return train_data, test_data, y_train, y_test\n",
    "\n",
    "\n",
    "X_train, X_test, y_train, y_test = load_data()\n",
    "X_train = X_train.astype(float) / 255\n",
    "X_test = X_test.astype(float) / 255\n",
    "\n",
    "# Add bias\n",
    "X_train = np.hstack((np.ones((X_train.shape[0], 1)), X_train))\n",
    "X_test = np.hstack((np.ones((X_test.shape[0], 1)), X_test))\n",
    "\n",
    "print('Train data shape: ', X_train.shape)\n",
    "print('Train labels shape: ', y_train.shape)\n",
    "print('Test data shape: ', X_test.shape)\n",
    "print('Test labels shape: ', y_test.shape)"
   ]
  },
  {
   "cell_type": "markdown",
   "metadata": {},
   "source": [
    "### Load CIFAR-10"
   ]
  },
  {
   "cell_type": "code",
   "execution_count": 24,
   "metadata": {},
   "outputs": [
    {
     "name": "stdout",
     "output_type": "stream",
     "text": [
      "Train data shape:  (50000, 3073)\n",
      "Train labels shape:  (50000, 10)\n",
      "Test data shape:  (10000, 3073)\n",
      "Test labels shape:  (10000, 10)\n",
      "[[1.         0.23137255 0.16862745 ... 0.54901961 0.32941176 0.28235294]\n",
      " [1.         0.60392157 0.49411765 ... 0.54509804 0.55686275 0.56470588]\n",
      " [1.         1.         0.99215686 ... 0.3254902  0.3254902  0.32941176]\n",
      " ...\n",
      " [1.         0.1372549  0.15686275 ... 0.30196078 0.25882353 0.19607843]\n",
      " [1.         0.74117647 0.72941176 ... 0.6627451  0.67058824 0.67058824]\n",
      " [1.         0.89803922 0.9254902  ... 0.67843137 0.63529412 0.63137255]]\n"
     ]
    }
   ],
   "source": [
    "classes = ('plane', 'car', 'bird', 'cat',\n",
    "           'deer', 'dog', 'frog', 'horse', 'ship', 'truck')\n",
    "\n",
    "img_rows, img_cols = 32, 32\n",
    "input_shape = (img_rows, img_cols, 3)\n",
    "def load_pickle(f):\n",
    "    version = platform.python_version_tuple()\n",
    "    if version[0] == '2':\n",
    "        return  pickle.load(f)\n",
    "    elif version[0] == '3':\n",
    "        return  pickle.load(f, encoding='latin1')\n",
    "    raise ValueError(\"invalid python version: {}\".format(version))\n",
    "\n",
    "def load_CIFAR_batch(filename):\n",
    "    \"\"\" load single batch of cifar \"\"\"\n",
    "    with open(filename, 'rb') as f:\n",
    "        datadict = load_pickle(f)\n",
    "        X = datadict['data']\n",
    "        Y = datadict['labels']\n",
    "        X = X.reshape(10000,3072)\n",
    "        Y = np.array(Y)\n",
    "        return X, Y\n",
    "\n",
    "def load_CIFAR10(ROOT):\n",
    "    \"\"\" load all of cifar \"\"\"\n",
    "    xs = []\n",
    "    ys = []\n",
    "    for batch in range(1,6):\n",
    "        f = os.path.join(ROOT, 'data_batch_%d' % (batch, ))\n",
    "        X, Y = load_CIFAR_batch(f)\n",
    "        xs.append(X)\n",
    "        ys.append(Y)\n",
    "    Xtr = np.concatenate(xs)\n",
    "    Ytr = np.concatenate(ys)\n",
    "    del X, Y\n",
    "    Xte, Yte = load_CIFAR_batch(os.path.join(ROOT, 'test_batch'))\n",
    "    return Xtr, Ytr, Xte, Yte\n",
    "def get_CIFAR10_data(num_training=50000, num_test=10000):\n",
    "    # Load the raw CIFAR-10 data\n",
    "    cifar10_dir = 'cifar'\n",
    "    X_train, y_train, X_test, y_test = load_CIFAR10(cifar10_dir)\n",
    "\n",
    "    # Subsample the data\n",
    "    mask = range(num_training)\n",
    "    X_train = X_train[mask]\n",
    "    y_train = y_train[mask]\n",
    "    mask = range(num_test)\n",
    "    X_test = X_test[mask]\n",
    "    y_test = y_test[mask]\n",
    "    \n",
    "    X_train = X_train.astype(float) / 255\n",
    "    X_test = X_test.astype(float) / 255\n",
    "    \n",
    "    # Add bias\n",
    "    X_train = np.hstack((np.ones((X_train.shape[0], 1)), X_train))\n",
    "    X_test = np.hstack((np.ones((X_test.shape[0], 1)), X_test))\n",
    "    # One hot encode\n",
    "    y_train = pd.get_dummies(y_train).to_numpy()\n",
    "    y_test = pd.get_dummies(y_test).to_numpy()\n",
    "\n",
    "    return X_train, y_train, X_test, y_test\n",
    "\n",
    "\n",
    "# Invoke the above function to get our data.\n",
    "X_train, y_train, X_test, y_test = get_CIFAR10_data()\n",
    "\n",
    "print('Train data shape: ', X_train.shape)\n",
    "print('Train labels shape: ', y_train.shape)\n",
    "print('Test data shape: ', X_test.shape)\n",
    "print('Test labels shape: ', y_test.shape)"
   ]
  },
  {
   "cell_type": "markdown",
   "metadata": {},
   "source": [
    "### Activation functions (and derivatives)"
   ]
  },
  {
   "cell_type": "code",
   "execution_count": 3,
   "metadata": {},
   "outputs": [],
   "source": [
    "def softmax(z, ax=1):\n",
    "    m = np.max(z, axis=ax, keepdims=True)  # max per row\n",
    "    p = np.exp(z - m)\n",
    "    return p / np.sum(p, axis=ax, keepdims=True)\n",
    "\n",
    "\n",
    "def act(z, act_num):\n",
    "    return {\n",
    "        1: np.log(1. + np.exp(z)),\n",
    "        2: np.tanh(z),\n",
    "        3: np.cos(z)\n",
    "    }.get(act_num, 'Wrong activation number (will likely throw error).')\n",
    "\n",
    "\n",
    "def act_prime(z, act_num):\n",
    "    return {\n",
    "        1: np.exp(z) / (1. + np.exp(z)),\n",
    "        2: 1. - np.square(np.tanh(z)),\n",
    "        3: -1. * np.sin(z)\n",
    "    }.get(act_num, 'Wrong activation number (will likely throw error).')"
   ]
  },
  {
   "cell_type": "markdown",
   "metadata": {},
   "source": [
    "### Forward/Back probagation and cost function"
   ]
  },
  {
   "cell_type": "code",
   "execution_count": 4,
   "metadata": {},
   "outputs": [],
   "source": [
    "def cost_grad_softmax(W1, W2, X, y, act_num, lamda):\n",
    "    # Forward probagation\n",
    "    z1 = X.dot(W1.T)\n",
    "    a1 = act(z1, act_num)\n",
    "    z2 = a1.dot(W2.T)\n",
    "    max_error = np.max(z2, axis=1)\n",
    "    y_hat = softmax(z2)\n",
    "\n",
    "    # Compute the cost function to check convergence\n",
    "    # using the logsumexp trick for numerical stability - lec8.pdf slide 43\n",
    "    Ew = np.sum(y * z2) - np.sum(max_error) - \\\n",
    "         np.sum(np.log(np.sum(np.exp(z2 - np.array([max_error, ] * z2.shape[1]).T), 1))) - \\\n",
    "         (0.5 * lamda) * np.sum(np.square(W2))\n",
    "\n",
    "    # Backprobagation\n",
    "    # Gradient for W2 - calculate (T - Y).T*Z - λ*W2\n",
    "    d_z2 = (y - y_hat)\n",
    "    dew2dw2 = np.dot(d_z2.T, a1) - lamda * W2\n",
    "\n",
    "    # Gradient for W1 - calculate ((T - Y)*W2 * Z').T*X - λ*W1\n",
    "    d_a1 = np.dot(d_z2, W2)\n",
    "    d_z1 = np.multiply(d_a1, act_prime(z1, act_num))\n",
    "    dew1dw1 = np.dot(d_z1.T, X) - lamda * W1\n",
    "\n",
    "    return Ew, dew1dw1, dew2dw2"
   ]
  },
  {
   "cell_type": "markdown",
   "metadata": {},
   "source": [
    "### Train function - mini batch gradient ascent, cost calculations"
   ]
  },
  {
   "cell_type": "code",
   "execution_count": 5,
   "metadata": {},
   "outputs": [],
   "source": [
    "def ml_softmax_train(X, y, lamda, W1_init, W2_init, options):\n",
    "    W1 = W1_init\n",
    "    W2 = W2_init\n",
    "    # Maximum number of iteration of gradient ascend\n",
    "    _iter = options[0]\n",
    "    # Tolerance\n",
    "    tol = options[1]\n",
    "    # Learning rate\n",
    "    eta = options[2]\n",
    "    # Activation function\n",
    "    act_num = options[3]\n",
    "    # Batch size\n",
    "    batch_size = options[4]\n",
    "\n",
    "    Ew = 0\n",
    "    Ewold = -np.inf\n",
    "    costs = []\n",
    "\n",
    "    for i in range(1, _iter + 1):\n",
    "        rng_state = np.random.get_state()\n",
    "        np.random.shuffle(X)\n",
    "        np.random.set_state(rng_state)\n",
    "        np.random.shuffle(y)\n",
    "        X_batch = np.array_split(X, batch_size)\n",
    "        y_batch = np.array_split(y, batch_size)\n",
    "        for m in range(0, batch_size):\n",
    "            Ew, gradEw1, gradEw2 = cost_grad_softmax(W1, W2, X_batch[m], y_batch[m], act_num, lamda)\n",
    "            # Update parameters based on gradient ascend\n",
    "            W1 = W1 + eta * gradEw1\n",
    "            W2 = W2 + eta * gradEw2\n",
    "            \n",
    "            # Break if you achieve the desired accuracy in the cost function\n",
    "            if np.abs(Ew - Ewold) < tol:\n",
    "                break\n",
    "            Ewold = Ew\n",
    "\n",
    "        # Show the current cost function on screen\n",
    "        if i % 50 == 0:\n",
    "            print('Iteration :%d, Cost function :%f' % (i, Ew))\n",
    "        # save cost of last batch\n",
    "        costs.append(Ew)\n",
    "\n",
    "    return W1, W2, costs"
   ]
  },
  {
   "cell_type": "markdown",
   "metadata": {},
   "source": [
    "### Predict function "
   ]
  },
  {
   "cell_type": "code",
   "execution_count": 6,
   "metadata": {},
   "outputs": [],
   "source": [
    "def predict(X, act_num):\n",
    "    z1 = X.dot(W1.T)\n",
    "    a1 = act(z1, act_num)\n",
    "    z2 = a1.dot(W2.T)\n",
    "    y_hat = softmax(z2)\n",
    "    y_pred = np.argmax(y_hat, 1)\n",
    "    return y_pred"
   ]
  },
  {
   "cell_type": "markdown",
   "metadata": {},
   "source": [
    "### Gradient Check function - not working, to be done"
   ]
  },
  {
   "cell_type": "code",
   "execution_count": 7,
   "metadata": {},
   "outputs": [],
   "source": [
    "def gradcheck_softmax(W1_init, W2_init, X, t, act_num, lamda):\n",
    "    \n",
    "    W1 = W1_init\n",
    "    W2 = W2_init\n",
    "    epsilon = 1e-7\n",
    "    \n",
    "    _list = np.random.randint(X.shape[0], size=5)\n",
    "    x_sample = np.array(X[_list, :])\n",
    "    t_sample = np.array(t[_list, :])\n",
    "    \n",
    "    Ew, gradEw1, gradEw2 = cost_grad_softmax(W1, W2, x_sample, t_sample, act_num, lamda)\n",
    "    \n",
    "    numericalGrad = np.zeros(gradEw2.shape)\n",
    "    # Compute all numerical gradient estimates and store them in\n",
    "    # the matrix numericalGrad\n",
    "    for k in range(gradEw1.shape[0]):\n",
    "        for d in range(gradEw1.shape[1]):\n",
    "            for l in range(numericalGrad.shape[0]):\n",
    "            \n",
    "                #add epsilon to the w1[k,d], w2[l,k]\n",
    "                w1_tmp = np.copy(W1)\n",
    "                w2_tmp = np.copy(W2)\n",
    "                w1_tmp[k, d] += epsilon\n",
    "                w2_tmp[l, k] += epsilon\n",
    "                e_plus, _, _ = cost_grad_softmax(w1_tmp, w2_tmp, x_sample, t_sample, act_num, lamda)\n",
    "\n",
    "                #subtract epsilon to the w1[k,d], w2[l,k]\n",
    "                w1_tmp = np.copy(W1)\n",
    "                w2_tmp = np.copy(W2)\n",
    "                w1_tmp[k, d] -= epsilon\n",
    "                w2_tmp[l, k] -= epsilon\n",
    "                e_minus, _, _ = cost_grad_softmax(w1_tmp, w2_tmp, x_sample, t_sample, act_num, lamda)\n",
    "\n",
    "                #approximate gradient ( E[ w[k,d] + theta ] - E[ w[k,d] - theta ] ) / 2*e\n",
    "                numericalGrad[l, k] = (e_plus - e_minus) / (2 * epsilon)\n",
    "    \n",
    "    return (gradEw2, numericalGrad)"
   ]
  },
  {
   "cell_type": "markdown",
   "metadata": {},
   "source": [
    "### Hyperparameter and weights initialization"
   ]
  },
  {
   "cell_type": "code",
   "execution_count": 11,
   "metadata": {},
   "outputs": [],
   "source": [
    "# data_size is the num of train samples, input_layer_size is the num of pixels + 1 (bias)\n",
    "data_size, input_layer_size = X_train.shape\n",
    "hid_layer_size = input_layer_size//10 + 1\n",
    "out_layer_size = 10\n",
    "\n",
    "# Weight initialization with heuristic function\n",
    "W1 = np.random.rand(hid_layer_size, input_layer_size) * np.sqrt(1. / (input_layer_size + hid_layer_size))\n",
    "W2 = np.random.rand(out_layer_size, hid_layer_size) * np.sqrt(1. / (hid_layer_size + out_layer_size))\n",
    "\n",
    "# regularization parameter\n",
    "lamda = 0.1\n",
    "\n",
    "# Maximum number of iterations, tolerance, \\\n",
    "# learning rate, activation function number(1: log, 2:tanh, 3:cos),\n",
    "# batch size\n",
    "options = [200, 1e-4, 0.5/data_size, 2, 100]"
   ]
  },
  {
   "cell_type": "markdown",
   "metadata": {},
   "source": [
    "### Gradient Checking"
   ]
  },
  {
   "cell_type": "code",
   "execution_count": null,
   "metadata": {},
   "outputs": [],
   "source": [
    "gradEw2, numericalGrad = gradcheck_softmax(W1, W2, X_train, y_train, options[3], lamda)\n",
    "\n",
    "# Absolute norm\n",
    "print(\"The difference estimate for the gradient is: \", np.max(np.abs(gradEw2 - numericalGrad)))"
   ]
  },
  {
   "cell_type": "markdown",
   "metadata": {},
   "source": [
    "### NN training and cost plot"
   ]
  },
  {
   "cell_type": "code",
   "execution_count": 12,
   "metadata": {},
   "outputs": [
    {
     "name": "stdout",
     "output_type": "stream",
     "text": [
      "Iteration :50, Cost function :-446.299250\n",
      "Iteration :100, Cost function :-252.124729\n",
      "Iteration :150, Cost function :-178.440974\n",
      "Iteration :200, Cost function :-204.215241\n"
     ]
    },
    {
     "data": {
      "image/png": "[encoded data removed]",
      "text/plain": [
       "<Figure size 432x288 with 1 Axes>"
      ]
     },
     "metadata": {
      "needs_background": "light"
     },
     "output_type": "display_data"
    }
   ],
   "source": [
    "# Re-initialize weight for training\n",
    "W1 = np.random.rand(hid_layer_size, input_layer_size) * np.sqrt(1. / (input_layer_size + hid_layer_size))\n",
    "W2 = np.random.rand(out_layer_size, hid_layer_size) * np.sqrt(1. / (hid_layer_size + out_layer_size))\n",
    "W1, W2, costs = ml_softmax_train(X_train, y_train, lamda, W1, W2, options)\n",
    "\n",
    "plt.plot(np.squeeze(costs))\n",
    "plt.ylabel('cost')\n",
    "plt.xlabel('iterations (per tens)')\n",
    "plt.title(\"Learning rate =\" + str(format(options[2], 'f')))\n",
    "plt.show()"
   ]
  },
  {
   "cell_type": "markdown",
   "metadata": {},
   "source": [
    "### Accuracy"
   ]
  },
  {
   "cell_type": "code",
   "execution_count": 13,
   "metadata": {},
   "outputs": [
    {
     "name": "stdout",
     "output_type": "stream",
     "text": [
      "accuracy  0.9208\n"
     ]
    }
   ],
   "source": [
    "y_pred = predict(X_test, options[3])\n",
    "\n",
    "acc = np.mean(y_pred == np.argmax(y_test, 1))\n",
    "print(\"accuracy \", acc)"
   ]
  },
  {
   "cell_type": "code",
   "execution_count": null,
   "metadata": {},
   "outputs": [],
   "source": []
  }
 ],
 "metadata": {
  "kernelspec": {
   "display_name": "Python 3",
   "language": "python",
   "name": "python3"
  },
  "language_info": {
   "codemirror_mode": {
    "name": "ipython",
    "version": 3
   },
   "file_extension": ".py",
   "mimetype": "text/x-python",
   "name": "python",
   "nbconvert_exporter": "python",
   "pygments_lexer": "ipython3",
   "version": "3.8.8"
  }
 },
 "nbformat": 4,
 "nbformat_minor": 4
}
